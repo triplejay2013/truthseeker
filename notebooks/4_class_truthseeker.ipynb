{
 "cells": [
  {
   "cell_type": "markdown",
   "metadata": {},
   "source": [
    "# Data Preprocessing"
   ]
  },
  {
   "cell_type": "code",
   "execution_count": null,
   "metadata": {},
   "outputs": [
    {
     "data": {
      "text/plain": [
       "'cpu'"
      ]
     },
     "execution_count": 25,
     "metadata": {},
     "output_type": "execute_result"
    }
   ],
   "source": [
    "import pandas as pd\n",
    "from sklearn.metrics import accuracy_score\n",
    "from sklearn.model_selection import train_test_split\n",
    "\n",
    "from transformers import DistilBertTokenizer, DistilBertModel, Trainer, TrainingArguments\n",
    "from datasets import Dataset\n",
    "\n",
    "import torch\n",
    "from torch import cuda\n",
    "device = 'cuda' if cuda.is_available() else 'cpu'\n",
    "\n",
    "device"
   ]
  },
  {
   "cell_type": "code",
   "execution_count": null,
   "metadata": {},
   "outputs": [
    {
     "data": {
      "text/html": [
       "<div>\n",
       "<style scoped>\n",
       "    .dataframe tbody tr th:only-of-type {\n",
       "        vertical-align: middle;\n",
       "    }\n",
       "\n",
       "    .dataframe tbody tr th {\n",
       "        vertical-align: top;\n",
       "    }\n",
       "\n",
       "    .dataframe thead th {\n",
       "        text-align: right;\n",
       "    }\n",
       "</style>\n",
       "<table border=\"1\" class=\"dataframe\">\n",
       "  <thead>\n",
       "    <tr style=\"text-align: right;\">\n",
       "      <th></th>\n",
       "      <th>author</th>\n",
       "      <th>statement</th>\n",
       "      <th>target</th>\n",
       "      <th>BinaryNumTarget</th>\n",
       "      <th>manual_keywords</th>\n",
       "      <th>tweet</th>\n",
       "      <th>5_label_majority_answer</th>\n",
       "      <th>3_label_majority_answer</th>\n",
       "    </tr>\n",
       "  </thead>\n",
       "  <tbody>\n",
       "    <tr>\n",
       "      <th>58262</th>\n",
       "      <td>April Hunt</td>\n",
       "      <td>Unlike marijuana, medical cannabis oil cannot ...</td>\n",
       "      <td>True</td>\n",
       "      <td>1.0</td>\n",
       "      <td>medical canabis, cannot, high</td>\n",
       "      <td>@G19106 @PhillyInquirer You cannot open a medi...</td>\n",
       "      <td>Agree</td>\n",
       "      <td>Agree</td>\n",
       "    </tr>\n",
       "    <tr>\n",
       "      <th>40146</th>\n",
       "      <td>Louis Jacobson</td>\n",
       "      <td>\"There are more words in the IRS code than the...</td>\n",
       "      <td>True</td>\n",
       "      <td>1.0</td>\n",
       "      <td>More words, IRS code, Bible</td>\n",
       "      <td>\"There are more words in the IRS code than the...</td>\n",
       "      <td>Mostly Disagree</td>\n",
       "      <td>Disagree</td>\n",
       "    </tr>\n",
       "    <tr>\n",
       "      <th>77627</th>\n",
       "      <td>Ciara O'Rourke</td>\n",
       "      <td>In 38 days Pelosi and Schiff are up for reelec...</td>\n",
       "      <td>False</td>\n",
       "      <td>0.0</td>\n",
       "      <td>Pelosi, Schiff, reelection</td>\n",
       "      <td>All of the players in this coup need to be inv...</td>\n",
       "      <td>Agree</td>\n",
       "      <td>Agree</td>\n",
       "    </tr>\n",
       "    <tr>\n",
       "      <th>103400</th>\n",
       "      <td>Jon Greenberg</td>\n",
       "      <td>21% of people are having serious adverse event...</td>\n",
       "      <td>False</td>\n",
       "      <td>0.0</td>\n",
       "      <td>21%,adverse,moderna</td>\n",
       "      <td>@LauraM_AskMD Not hypothesis\\n\\nJudge forced F...</td>\n",
       "      <td>Disagree</td>\n",
       "      <td>Disagree</td>\n",
       "    </tr>\n",
       "    <tr>\n",
       "      <th>52117</th>\n",
       "      <td>Tom Kertscher</td>\n",
       "      <td>Says Donald Trump won Arizona.</td>\n",
       "      <td>False</td>\n",
       "      <td>0.0</td>\n",
       "      <td>trump Arizona win</td>\n",
       "      <td>@MeghanMcCain Meghan you have been removed fro...</td>\n",
       "      <td>Agree</td>\n",
       "      <td>Agree</td>\n",
       "    </tr>\n",
       "  </tbody>\n",
       "</table>\n",
       "</div>"
      ],
      "text/plain": [
       "                author                                          statement  \\\n",
       "58262       April Hunt  Unlike marijuana, medical cannabis oil cannot ...   \n",
       "40146   Louis Jacobson  \"There are more words in the IRS code than the...   \n",
       "77627   Ciara O'Rourke  In 38 days Pelosi and Schiff are up for reelec...   \n",
       "103400   Jon Greenberg  21% of people are having serious adverse event...   \n",
       "52117    Tom Kertscher                     Says Donald Trump won Arizona.   \n",
       "\n",
       "        target  BinaryNumTarget                manual_keywords  \\\n",
       "58262     True              1.0  medical canabis, cannot, high   \n",
       "40146     True              1.0    More words, IRS code, Bible   \n",
       "77627    False              0.0     Pelosi, Schiff, reelection   \n",
       "103400   False              0.0            21%,adverse,moderna   \n",
       "52117    False              0.0              trump Arizona win   \n",
       "\n",
       "                                                    tweet  \\\n",
       "58262   @G19106 @PhillyInquirer You cannot open a medi...   \n",
       "40146   \"There are more words in the IRS code than the...   \n",
       "77627   All of the players in this coup need to be inv...   \n",
       "103400  @LauraM_AskMD Not hypothesis\\n\\nJudge forced F...   \n",
       "52117   @MeghanMcCain Meghan you have been removed fro...   \n",
       "\n",
       "       5_label_majority_answer 3_label_majority_answer  \n",
       "58262                    Agree                   Agree  \n",
       "40146          Mostly Disagree                Disagree  \n",
       "77627                    Agree                   Agree  \n",
       "103400                Disagree                Disagree  \n",
       "52117                    Agree                   Agree  "
      ]
     },
     "execution_count": 26,
     "metadata": {},
     "output_type": "execute_result"
    }
   ],
   "source": [
    "PATH = \"../data/truthseeker.csv\"\n",
    "df = pd.read_csv(PATH)\n",
    "# Temporarily scale down dataset to ensure pipeline is functional\n",
    "# df = df.sample(frac=0.001, random_state=27)\n",
    "df.drop(columns=[\"Unnamed: 0\"], inplace=True)\n",
    "df = df[~df[\"5_label_majority_answer\"].isin([\"NO MAJORITY\", \"Unrelated\"])]\n",
    "df.head()"
   ]
  },
  {
   "cell_type": "code",
   "execution_count": 27,
   "metadata": {},
   "outputs": [
    {
     "data": {
      "text/plain": [
       "array(['Agree', 'Disagree'], dtype=object)"
      ]
     },
     "execution_count": 27,
     "metadata": {},
     "output_type": "execute_result"
    }
   ],
   "source": [
    "df[\"3_label_majority_answer\"].unique()"
   ]
  },
  {
   "cell_type": "code",
   "execution_count": null,
   "metadata": {},
   "outputs": [
    {
     "data": {
      "text/html": [
       "<div>\n",
       "<style scoped>\n",
       "    .dataframe tbody tr th:only-of-type {\n",
       "        vertical-align: middle;\n",
       "    }\n",
       "\n",
       "    .dataframe tbody tr th {\n",
       "        vertical-align: top;\n",
       "    }\n",
       "\n",
       "    .dataframe thead th {\n",
       "        text-align: right;\n",
       "    }\n",
       "</style>\n",
       "<table border=\"1\" class=\"dataframe\">\n",
       "  <thead>\n",
       "    <tr style=\"text-align: right;\">\n",
       "      <th></th>\n",
       "      <th>author</th>\n",
       "      <th>statement</th>\n",
       "      <th>target</th>\n",
       "      <th>BinaryNumTarget</th>\n",
       "      <th>manual_keywords</th>\n",
       "      <th>tweet</th>\n",
       "      <th>majority_answer</th>\n",
       "      <th>agreement_value</th>\n",
       "      <th>labels</th>\n",
       "    </tr>\n",
       "  </thead>\n",
       "  <tbody>\n",
       "    <tr>\n",
       "      <th>58262</th>\n",
       "      <td>April Hunt</td>\n",
       "      <td>Unlike marijuana, medical cannabis oil cannot ...</td>\n",
       "      <td>True</td>\n",
       "      <td>1.0</td>\n",
       "      <td>medical canabis, cannot, high</td>\n",
       "      <td>@G19106 @PhillyInquirer You cannot open a medi...</td>\n",
       "      <td>Agree</td>\n",
       "      <td>True</td>\n",
       "      <td>1</td>\n",
       "    </tr>\n",
       "    <tr>\n",
       "      <th>40146</th>\n",
       "      <td>Louis Jacobson</td>\n",
       "      <td>\"There are more words in the IRS code than the...</td>\n",
       "      <td>True</td>\n",
       "      <td>1.0</td>\n",
       "      <td>More words, IRS code, Bible</td>\n",
       "      <td>\"There are more words in the IRS code than the...</td>\n",
       "      <td>Disagree</td>\n",
       "      <td>False</td>\n",
       "      <td>0</td>\n",
       "    </tr>\n",
       "    <tr>\n",
       "      <th>77627</th>\n",
       "      <td>Ciara O'Rourke</td>\n",
       "      <td>In 38 days Pelosi and Schiff are up for reelec...</td>\n",
       "      <td>False</td>\n",
       "      <td>0.0</td>\n",
       "      <td>Pelosi, Schiff, reelection</td>\n",
       "      <td>All of the players in this coup need to be inv...</td>\n",
       "      <td>Agree</td>\n",
       "      <td>False</td>\n",
       "      <td>0</td>\n",
       "    </tr>\n",
       "    <tr>\n",
       "      <th>103400</th>\n",
       "      <td>Jon Greenberg</td>\n",
       "      <td>21% of people are having serious adverse event...</td>\n",
       "      <td>False</td>\n",
       "      <td>0.0</td>\n",
       "      <td>21%,adverse,moderna</td>\n",
       "      <td>@LauraM_AskMD Not hypothesis\\n\\nJudge forced F...</td>\n",
       "      <td>Disagree</td>\n",
       "      <td>True</td>\n",
       "      <td>1</td>\n",
       "    </tr>\n",
       "    <tr>\n",
       "      <th>52117</th>\n",
       "      <td>Tom Kertscher</td>\n",
       "      <td>Says Donald Trump won Arizona.</td>\n",
       "      <td>False</td>\n",
       "      <td>0.0</td>\n",
       "      <td>trump Arizona win</td>\n",
       "      <td>@MeghanMcCain Meghan you have been removed fro...</td>\n",
       "      <td>Agree</td>\n",
       "      <td>False</td>\n",
       "      <td>0</td>\n",
       "    </tr>\n",
       "  </tbody>\n",
       "</table>\n",
       "</div>"
      ],
      "text/plain": [
       "                author                                          statement  \\\n",
       "58262       April Hunt  Unlike marijuana, medical cannabis oil cannot ...   \n",
       "40146   Louis Jacobson  \"There are more words in the IRS code than the...   \n",
       "77627   Ciara O'Rourke  In 38 days Pelosi and Schiff are up for reelec...   \n",
       "103400   Jon Greenberg  21% of people are having serious adverse event...   \n",
       "52117    Tom Kertscher                     Says Donald Trump won Arizona.   \n",
       "\n",
       "        target  BinaryNumTarget                manual_keywords  \\\n",
       "58262     True              1.0  medical canabis, cannot, high   \n",
       "40146     True              1.0    More words, IRS code, Bible   \n",
       "77627    False              0.0     Pelosi, Schiff, reelection   \n",
       "103400   False              0.0            21%,adverse,moderna   \n",
       "52117    False              0.0              trump Arizona win   \n",
       "\n",
       "                                                    tweet majority_answer  \\\n",
       "58262   @G19106 @PhillyInquirer You cannot open a medi...           Agree   \n",
       "40146   \"There are more words in the IRS code than the...        Disagree   \n",
       "77627   All of the players in this coup need to be inv...           Agree   \n",
       "103400  @LauraM_AskMD Not hypothesis\\n\\nJudge forced F...        Disagree   \n",
       "52117   @MeghanMcCain Meghan you have been removed fro...           Agree   \n",
       "\n",
       "       agreement_value  labels  \n",
       "58262             True       1  \n",
       "40146            False       0  \n",
       "77627            False       0  \n",
       "103400            True       1  \n",
       "52117            False       0  "
      ]
     },
     "execution_count": 28,
     "metadata": {},
     "output_type": "execute_result"
    }
   ],
   "source": [
    "df = df.drop(columns=[\"3_label_majority_answer\"])\n",
    "df.rename(columns={\"5_label_majority_answer\": \"majority_answer\"}, inplace=True)\n",
    "\n",
    "def compute_truthfulness(row):\n",
    "    if row[\"BinaryNumTarget\"] == 1:  # Statement is True\n",
    "        if row[\"majority_answer\"] in [\"Agree\"]:\n",
    "            return \"True\"\n",
    "        elif row[\"majority_answer\"] in [\"Mostly Agree\"]:\n",
    "            return \"Mostly True\"\n",
    "        elif row[\"majority_answer\"] in [\"Disagree\"]:\n",
    "            return \"False\"\n",
    "        elif row[\"majority_answer\"] in [\"Mostly Disagree\"]:\n",
    "            return \"Mostly False\"\n",
    "    elif row[\"BinaryNumTarget\"] == 0:  # Statement is False\n",
    "        if row[\"majority_answer\"] in [\"Agree\"]:\n",
    "            return \"False\"\n",
    "        elif row[\"majority_answer\"] in [\"Mostly Agree\"]:\n",
    "            return \"Mostly False\"\n",
    "        elif row[\"majority_answer\"] in [\"Disagree\"]:\n",
    "            return \"True\"\n",
    "        elif row[\"majority_answer\"] in [\"Mostly Disagree\"]:\n",
    "            return \"Mostly True\"\n",
    "\n",
    "df[\"credibility_value\"] = df.apply(compute_truthfulness, axis=1)\n",
    "\n",
    "df[\"labels\"] = df[\"credibility_value\"].astype(\"category\").cat.codes\n",
    "df.head()\n"
   ]
  },
  {
   "cell_type": "code",
   "execution_count": null,
   "metadata": {},
   "outputs": [
    {
     "data": {
      "text/html": [
       "<div>\n",
       "<style scoped>\n",
       "    .dataframe tbody tr th:only-of-type {\n",
       "        vertical-align: middle;\n",
       "    }\n",
       "\n",
       "    .dataframe tbody tr th {\n",
       "        vertical-align: top;\n",
       "    }\n",
       "\n",
       "    .dataframe thead th {\n",
       "        text-align: right;\n",
       "    }\n",
       "</style>\n",
       "<table border=\"1\" class=\"dataframe\">\n",
       "  <thead>\n",
       "    <tr style=\"text-align: right;\">\n",
       "      <th></th>\n",
       "      <th>author</th>\n",
       "      <th>statement</th>\n",
       "      <th>target</th>\n",
       "      <th>BinaryNumTarget</th>\n",
       "      <th>manual_keywords</th>\n",
       "      <th>tweet</th>\n",
       "      <th>majority_answer</th>\n",
       "      <th>agreement_value</th>\n",
       "      <th>labels</th>\n",
       "    </tr>\n",
       "  </thead>\n",
       "  <tbody>\n",
       "    <tr>\n",
       "      <th>58262</th>\n",
       "      <td>April Hunt</td>\n",
       "      <td>Unlike marijuana, medical cannabis oil cannot ...</td>\n",
       "      <td>True</td>\n",
       "      <td>1.0</td>\n",
       "      <td>medical canabis, cannot, high</td>\n",
       "      <td>@G19106 @PhillyInquirer You cannot open a medi...</td>\n",
       "      <td>Agree</td>\n",
       "      <td>True</td>\n",
       "      <td>1</td>\n",
       "    </tr>\n",
       "    <tr>\n",
       "      <th>40146</th>\n",
       "      <td>Louis Jacobson</td>\n",
       "      <td>\"There are more words in the IRS code than the...</td>\n",
       "      <td>True</td>\n",
       "      <td>1.0</td>\n",
       "      <td>More words, IRS code, Bible</td>\n",
       "      <td>\"There are more words in the IRS code than the...</td>\n",
       "      <td>Disagree</td>\n",
       "      <td>False</td>\n",
       "      <td>0</td>\n",
       "    </tr>\n",
       "    <tr>\n",
       "      <th>77627</th>\n",
       "      <td>Ciara O'Rourke</td>\n",
       "      <td>In 38 days Pelosi and Schiff are up for reelec...</td>\n",
       "      <td>False</td>\n",
       "      <td>0.0</td>\n",
       "      <td>Pelosi, Schiff, reelection</td>\n",
       "      <td>All of the players in this coup need to be inv...</td>\n",
       "      <td>Agree</td>\n",
       "      <td>False</td>\n",
       "      <td>0</td>\n",
       "    </tr>\n",
       "    <tr>\n",
       "      <th>103400</th>\n",
       "      <td>Jon Greenberg</td>\n",
       "      <td>21% of people are having serious adverse event...</td>\n",
       "      <td>False</td>\n",
       "      <td>0.0</td>\n",
       "      <td>21%,adverse,moderna</td>\n",
       "      <td>@LauraM_AskMD Not hypothesis\\n\\nJudge forced F...</td>\n",
       "      <td>Disagree</td>\n",
       "      <td>True</td>\n",
       "      <td>1</td>\n",
       "    </tr>\n",
       "    <tr>\n",
       "      <th>52117</th>\n",
       "      <td>Tom Kertscher</td>\n",
       "      <td>Says Donald Trump won Arizona.</td>\n",
       "      <td>False</td>\n",
       "      <td>0.0</td>\n",
       "      <td>trump Arizona win</td>\n",
       "      <td>@MeghanMcCain Meghan you have been removed fro...</td>\n",
       "      <td>Agree</td>\n",
       "      <td>False</td>\n",
       "      <td>0</td>\n",
       "    </tr>\n",
       "  </tbody>\n",
       "</table>\n",
       "</div>"
      ],
      "text/plain": [
       "                author                                          statement  \\\n",
       "58262       April Hunt  Unlike marijuana, medical cannabis oil cannot ...   \n",
       "40146   Louis Jacobson  \"There are more words in the IRS code than the...   \n",
       "77627   Ciara O'Rourke  In 38 days Pelosi and Schiff are up for reelec...   \n",
       "103400   Jon Greenberg  21% of people are having serious adverse event...   \n",
       "52117    Tom Kertscher                     Says Donald Trump won Arizona.   \n",
       "\n",
       "        target  BinaryNumTarget                manual_keywords  \\\n",
       "58262     True              1.0  medical canabis, cannot, high   \n",
       "40146     True              1.0    More words, IRS code, Bible   \n",
       "77627    False              0.0     Pelosi, Schiff, reelection   \n",
       "103400   False              0.0            21%,adverse,moderna   \n",
       "52117    False              0.0              trump Arizona win   \n",
       "\n",
       "                                                    tweet majority_answer  \\\n",
       "58262   @G19106 @PhillyInquirer You cannot open a medi...           Agree   \n",
       "40146   \"There are more words in the IRS code than the...        Disagree   \n",
       "77627   All of the players in this coup need to be inv...           Agree   \n",
       "103400  @LauraM_AskMD Not hypothesis\\n\\nJudge forced F...        Disagree   \n",
       "52117   @MeghanMcCain Meghan you have been removed fro...           Agree   \n",
       "\n",
       "       agreement_value  labels  \n",
       "58262             True       1  \n",
       "40146            False       0  \n",
       "77627            False       0  \n",
       "103400            True       1  \n",
       "52117            False       0  "
      ]
     },
     "execution_count": 29,
     "metadata": {},
     "output_type": "execute_result"
    }
   ],
   "source": [
    "statements = df['statement'].unique()\n",
    "\n",
    "# Split data into train/test (80/20 split)\n",
    "train_statements,  test_statements = train_test_split(statements, test_size=0.2, random_state=27)\n",
    "\n",
    "train_df = df[df['statement'].isin(train_statements)]\n",
    "test_df = df[df['statement'].isin(test_statements)]\n",
    "\n",
    "train_df.head()"
   ]
  },
  {
   "cell_type": "code",
   "execution_count": null,
   "metadata": {},
   "outputs": [],
   "source": [
    "# Convert train and test DataFrames into Hugging Face Datasets\n",
    "train_dataset = Dataset.from_pandas(train_df)\n",
    "test_dataset = Dataset.from_pandas(test_df)"
   ]
  },
  {
   "cell_type": "code",
   "execution_count": null,
   "metadata": {},
   "outputs": [
    {
     "data": {
      "application/vnd.jupyter.widget-view+json": {
       "model_id": "c44c4b0799b94c03a6c7f4c22f32ceea",
       "version_major": 2,
       "version_minor": 0
      },
      "text/plain": [
       "Map:   0%|          | 0/82 [00:00<?, ? examples/s]"
      ]
     },
     "metadata": {},
     "output_type": "display_data"
    },
    {
     "data": {
      "application/vnd.jupyter.widget-view+json": {
       "model_id": "cf92cb5b1089498aa4a7e463c63e5c75",
       "version_major": 2,
       "version_minor": 0
      },
      "text/plain": [
       "Map:   0%|          | 0/22 [00:00<?, ? examples/s]"
      ]
     },
     "metadata": {},
     "output_type": "display_data"
    },
    {
     "data": {
      "application/vnd.jupyter.widget-view+json": {
       "model_id": "c2e433f3d1e04caaa22ef732ddb88d9b",
       "version_major": 2,
       "version_minor": 0
      },
      "text/plain": [
       "Map:   0%|          | 0/82 [00:00<?, ? examples/s]"
      ]
     },
     "metadata": {},
     "output_type": "display_data"
    },
    {
     "data": {
      "application/vnd.jupyter.widget-view+json": {
       "model_id": "3f52b50c5d9a4145ba3ed5b5043bb67c",
       "version_major": 2,
       "version_minor": 0
      },
      "text/plain": [
       "Map:   0%|          | 0/22 [00:00<?, ? examples/s]"
      ]
     },
     "metadata": {},
     "output_type": "display_data"
    }
   ],
   "source": [
    "# Load DistilBERT tokenizer\n",
    "tokenizer = DistilBertTokenizer.from_pretrained('distilbert-base-uncased')\n",
    "\n",
    "# Tokenize the tweet text\n",
    "def tokenize_function(examples):\n",
    "    # TODO: Include statement as well?\n",
    "    return tokenizer(examples['tweet'], padding=\"max_length\", truncation=True)\n",
    "\n",
    "# Define compute_metrics function to calculate accuracy\n",
    "def compute_metrics(p):\n",
    "    preds = p.predictions.argmax(axis=1)  # Get predicted labels\n",
    "    labels = p.label_ids  # Get true labels\n",
    "    acc = accuracy_score(labels, preds)  # Compute accuracy\n",
    "    return {\"accuracy\": acc}\n",
    "\n",
    "train_dataset = train_dataset.map(tokenize_function, batched=True)\n",
    "test_dataset = test_dataset.map(tokenize_function, batched=True)"
   ]
  },
  {
   "cell_type": "code",
   "execution_count": null,
   "metadata": {},
   "outputs": [
    {
     "data": {
      "text/plain": [
       "DistilBertClassifier(\n",
       "  (distilbert): DistilBertModel(\n",
       "    (embeddings): Embeddings(\n",
       "      (word_embeddings): Embedding(30522, 768, padding_idx=0)\n",
       "      (position_embeddings): Embedding(512, 768)\n",
       "      (LayerNorm): LayerNorm((768,), eps=1e-12, elementwise_affine=True)\n",
       "      (dropout): Dropout(p=0.1, inplace=False)\n",
       "    )\n",
       "    (transformer): Transformer(\n",
       "      (layer): ModuleList(\n",
       "        (0-5): 6 x TransformerBlock(\n",
       "          (attention): DistilBertSdpaAttention(\n",
       "            (dropout): Dropout(p=0.1, inplace=False)\n",
       "            (q_lin): Linear(in_features=768, out_features=768, bias=True)\n",
       "            (k_lin): Linear(in_features=768, out_features=768, bias=True)\n",
       "            (v_lin): Linear(in_features=768, out_features=768, bias=True)\n",
       "            (out_lin): Linear(in_features=768, out_features=768, bias=True)\n",
       "          )\n",
       "          (sa_layer_norm): LayerNorm((768,), eps=1e-12, elementwise_affine=True)\n",
       "          (ffn): FFN(\n",
       "            (dropout): Dropout(p=0.1, inplace=False)\n",
       "            (lin1): Linear(in_features=768, out_features=3072, bias=True)\n",
       "            (lin2): Linear(in_features=3072, out_features=768, bias=True)\n",
       "            (activation): GELUActivation()\n",
       "          )\n",
       "          (output_layer_norm): LayerNorm((768,), eps=1e-12, elementwise_affine=True)\n",
       "        )\n",
       "      )\n",
       "    )\n",
       "  )\n",
       "  (classifier): Linear(in_features=768, out_features=1, bias=True)\n",
       ")"
      ]
     },
     "execution_count": 32,
     "metadata": {},
     "output_type": "execute_result"
    }
   ],
   "source": [
    "# Define a custom model class that adds a classification head for binary classification\n",
    "class DistilBertClassifier(torch.nn.Module):\n",
    "    def __init__(self):\n",
    "        super(DistilBertClassifier, self).__init__()\n",
    "        self.distilbert = DistilBertModel.from_pretrained(\"distilbert-base-uncased\", max_length=410, num_labels=4)\n",
    "        self.classifier = torch.nn.Linear(self.distilbert.config.hidden_size, 1)\n",
    "    \n",
    "    def forward(self, input_ids, attention_mask, labels=None):\n",
    "        # Get hidden states from DistilBERT\n",
    "        outputs = self.distilbert(input_ids=input_ids, attention_mask=attention_mask)\n",
    "        hidden_state = outputs.last_hidden_state\n",
    "        # Use the [CLS] token's embedding for classification\n",
    "        pooled_output = hidden_state[:, 0]  # First token is the [CLS] token\n",
    "        logits = self.classifier(pooled_output)\n",
    "        \n",
    "        if labels is not None:\n",
    "            # Binary crossentropy loss\n",
    "            loss_fct = torch.nn.BCEWithLogitsLoss()\n",
    "            loss = loss_fct(logits.view(-1), labels.view(-1).float())  # Ensure labels are float for BCE loss\n",
    "            return loss, logits\n",
    "        else:\n",
    "            return logits\n",
    "\n",
    "\n",
    "# Load DistilBERT model\n",
    "model = DistilBertClassifier()\n",
    "model.cuda()\n",
    "model"
   ]
  },
  {
   "cell_type": "code",
   "execution_count": null,
   "metadata": {},
   "outputs": [
    {
     "name": "stderr",
     "output_type": "stream",
     "text": [
      "c:\\Users\\Straakh\\anaconda3\\envs\\truth\\Lib\\site-packages\\transformers\\training_args.py:1568: FutureWarning: `evaluation_strategy` is deprecated and will be removed in version 4.46 of 🤗 Transformers. Use `eval_strategy` instead\n",
      "  warnings.warn(\n",
      "C:\\Users\\Straakh\\AppData\\Local\\Temp\\ipykernel_13744\\1757928022.py:18: FutureWarning: `tokenizer` is deprecated and will be removed in version 5.0.0 for `Trainer.__init__`. Use `processing_class` instead.\n",
      "  trainer3 = Trainer(\n"
     ]
    },
    {
     "data": {
      "application/vnd.jupyter.widget-view+json": {
       "model_id": "d531636bfae3465eb32ff730daa22b14",
       "version_major": 2,
       "version_minor": 0
      },
      "text/plain": [
       "  0%|          | 0/42 [00:00<?, ?it/s]"
      ]
     },
     "metadata": {},
     "output_type": "display_data"
    },
    {
     "name": "stdout",
     "output_type": "stream",
     "text": [
      "{'loss': 0.7118, 'grad_norm': 2.99511981010437, 'learning_rate': 1.0000000000000002e-06, 'epoch': 0.71}\n"
     ]
    },
    {
     "data": {
      "application/vnd.jupyter.widget-view+json": {
       "model_id": "509263e24c514dc88c51570055c0ddb9",
       "version_major": 2,
       "version_minor": 0
      },
      "text/plain": [
       "  0%|          | 0/4 [00:00<?, ?it/s]"
      ]
     },
     "metadata": {},
     "output_type": "display_data"
    },
    {
     "name": "stdout",
     "output_type": "stream",
     "text": [
      "{'eval_loss': 0.7011153697967529, 'eval_accuracy': 0.36363636363636365, 'eval_runtime': 15.2791, 'eval_samples_per_second': 1.44, 'eval_steps_per_second': 0.262, 'epoch': 1.0}\n",
      "{'loss': 0.6987, 'grad_norm': 3.0389857292175293, 'learning_rate': 2.0000000000000003e-06, 'epoch': 1.43}\n"
     ]
    },
    {
     "data": {
      "application/vnd.jupyter.widget-view+json": {
       "model_id": "c86786d415984ac096363b6ff7c17626",
       "version_major": 2,
       "version_minor": 0
      },
      "text/plain": [
       "  0%|          | 0/4 [00:00<?, ?it/s]"
      ]
     },
     "metadata": {},
     "output_type": "display_data"
    },
    {
     "name": "stdout",
     "output_type": "stream",
     "text": [
      "{'eval_loss': 0.6983593106269836, 'eval_accuracy': 0.36363636363636365, 'eval_runtime': 15.0149, 'eval_samples_per_second': 1.465, 'eval_steps_per_second': 0.266, 'epoch': 2.0}\n",
      "{'loss': 0.6997, 'grad_norm': 2.785733699798584, 'learning_rate': 3e-06, 'epoch': 2.14}\n",
      "{'loss': 0.6856, 'grad_norm': 1.3125437498092651, 'learning_rate': 4.000000000000001e-06, 'epoch': 2.86}\n"
     ]
    },
    {
     "data": {
      "application/vnd.jupyter.widget-view+json": {
       "model_id": "10afd69839984fb1a65fda343e35c282",
       "version_major": 2,
       "version_minor": 0
      },
      "text/plain": [
       "  0%|          | 0/4 [00:00<?, ?it/s]"
      ]
     },
     "metadata": {},
     "output_type": "display_data"
    },
    {
     "name": "stdout",
     "output_type": "stream",
     "text": [
      "{'eval_loss': 0.6904094815254211, 'eval_accuracy': 0.36363636363636365, 'eval_runtime': 15.1363, 'eval_samples_per_second': 1.453, 'eval_steps_per_second': 0.264, 'epoch': 3.0}\n",
      "{'train_runtime': 464.4177, 'train_samples_per_second': 0.53, 'train_steps_per_second': 0.09, 'train_loss': 0.697171443984622, 'epoch': 3.0}\n"
     ]
    },
    {
     "data": {
      "text/plain": [
       "TrainOutput(global_step=42, training_loss=0.697171443984622, metrics={'train_runtime': 464.4177, 'train_samples_per_second': 0.53, 'train_steps_per_second': 0.09, 'total_flos': 0.0, 'train_loss': 0.697171443984622, 'epoch': 3.0})"
      ]
     },
     "execution_count": 33,
     "metadata": {},
     "output_type": "execute_result"
    }
   ],
   "source": [
    "# Define training arguments\n",
    "training_args = TrainingArguments(\n",
    "    output_dir='./results-4class',          # output directory\n",
    "    fp16=True,\n",
    "    num_train_epochs=3,              # number of training epochs\n",
    "    per_device_train_batch_size=32,   # batch size for training\n",
    "    per_device_eval_batch_size=32,    # batch size for evaluation\n",
    "    warmup_steps=100,                # number of warmup steps for learning rate scheduler\n",
    "    weight_decay=0.01,               # strength of weight decay\n",
    "    logging_dir='./logs-4class',            # directory for storing logs\n",
    "    logging_steps=10,\n",
    "    load_best_model_at_end=True,\n",
    "    evaluation_strategy=\"epoch\",\n",
    "    save_strategy=\"epoch\",\n",
    ")\n",
    "\n",
    "# Initialize Trainer\n",
    "trainer = Trainer(\n",
    "    model=model,                         # the model to be trained\n",
    "    args=training_args,                  # training arguments\n",
    "    train_dataset=train_dataset,         # training dataset\n",
    "    eval_dataset=test_dataset,           # evaluation dataset\n",
    "    tokenizer=tokenizer,                 # tokenizer\n",
    "    compute_metrics=compute_metrics,\n",
    ")\n",
    "\n",
    "# Train the model\n",
    "trainer.train()"
   ]
  },
  {
   "cell_type": "code",
   "execution_count": null,
   "metadata": {},
   "outputs": [
    {
     "data": {
      "application/vnd.jupyter.widget-view+json": {
       "model_id": "84d0b04df1804965bee91eb792fb9b23",
       "version_major": 2,
       "version_minor": 0
      },
      "text/plain": [
       "  0%|          | 0/4 [00:00<?, ?it/s]"
      ]
     },
     "metadata": {},
     "output_type": "display_data"
    },
    {
     "data": {
      "application/vnd.jupyter.widget-view+json": {
       "model_id": "ebb68918afa2451eb7bb709089b7cce2",
       "version_major": 2,
       "version_minor": 0
      },
      "text/plain": [
       "  0%|          | 0/4 [00:00<?, ?it/s]"
      ]
     },
     "metadata": {},
     "output_type": "display_data"
    },
    {
     "data": {
      "text/plain": [
       "({'eval_loss': 0.6812520623207092,\n",
       "  'eval_accuracy': 0.36363636363636365,\n",
       "  'eval_runtime': 15.0546,\n",
       "  'eval_samples_per_second': 1.461,\n",
       "  'eval_steps_per_second': 0.266,\n",
       "  'epoch': 3.0},\n",
       " {'eval_loss': 0.6812520623207092,\n",
       "  'eval_accuracy': 0.36363636363636365,\n",
       "  'eval_runtime': 15.1231,\n",
       "  'eval_samples_per_second': 1.455,\n",
       "  'eval_steps_per_second': 0.264,\n",
       "  'epoch': 3.0})"
      ]
     },
     "execution_count": 35,
     "metadata": {},
     "output_type": "execute_result"
    }
   ],
   "source": [
    "# Evaluate the model\n",
    "results = trainer.evaluate()\n",
    "results"
   ]
  }
 ],
 "metadata": {
  "kernelspec": {
   "display_name": "truth",
   "language": "python",
   "name": "python3"
  },
  "language_info": {
   "codemirror_mode": {
    "name": "ipython",
    "version": 3
   },
   "file_extension": ".py",
   "mimetype": "text/x-python",
   "name": "python",
   "nbconvert_exporter": "python",
   "pygments_lexer": "ipython3",
   "version": "3.12.4"
  }
 },
 "nbformat": 4,
 "nbformat_minor": 4
}
