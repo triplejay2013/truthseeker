{
 "cells": [
  {
   "cell_type": "code",
   "execution_count": 1,
   "metadata": {},
   "outputs": [],
   "source": [
    "# Load the autoreload extension\n",
    "%load_ext autoreload\n",
    "\n",
    "# Set autoreload to automatically reload all modules\n",
    "%autoreload 2"
   ]
  },
  {
   "cell_type": "code",
   "execution_count": 2,
   "metadata": {},
   "outputs": [
    {
     "name": "stderr",
     "output_type": "stream",
     "text": [
      "[nltk_data] Downloading package vader_lexicon to\n",
      "[nltk_data]     C:\\Users\\Straakh\\AppData\\Roaming\\nltk_data...\n",
      "[nltk_data]   Package vader_lexicon is already up-to-date!\n"
     ]
    }
   ],
   "source": [
    "import sys\n",
    "from pathlib import Path\n",
    "\n",
    "# Add the src directory to sys.path\n",
    "sys.path.append(str(Path().resolve() / \"src\"))\n",
    "\n",
    "# Import util\n",
    "import util"
   ]
  },
  {
   "cell_type": "code",
   "execution_count": 3,
   "metadata": {},
   "outputs": [],
   "source": [
    "import torch\n",
    "import pandas as pd\n",
    "from transformers import DistilBertTokenizer, DistilBertForSequenceClassification\n",
    "from sklearn.model_selection import train_test_split\n",
    "from sklearn.linear_model import LogisticRegression\n",
    "from sklearn.metrics import classification_report\n",
    "import numpy as np"
   ]
  },
  {
   "cell_type": "code",
   "execution_count": 4,
   "metadata": {},
   "outputs": [
    {
     "name": "stdout",
     "output_type": "stream",
     "text": [
      "(1123, 8)\n"
     ]
    },
    {
     "name": "stderr",
     "output_type": "stream",
     "text": [
      "C:\\Users\\Straakh\\AppData\\Local\\Temp\\ipykernel_22984\\2912335117.py:9: FutureWarning: DataFrame.applymap has been deprecated. Use DataFrame.map instead.\n",
      "  df[clean_cols] = df[clean_cols].applymap(util.clean_text)\n"
     ]
    },
    {
     "data": {
      "text/html": [
       "<div>\n",
       "<style scoped>\n",
       "    .dataframe tbody tr th:only-of-type {\n",
       "        vertical-align: middle;\n",
       "    }\n",
       "\n",
       "    .dataframe tbody tr th {\n",
       "        vertical-align: top;\n",
       "    }\n",
       "\n",
       "    .dataframe thead th {\n",
       "        text-align: right;\n",
       "    }\n",
       "</style>\n",
       "<table border=\"1\" class=\"dataframe\">\n",
       "  <thead>\n",
       "    <tr style=\"text-align: right;\">\n",
       "      <th></th>\n",
       "      <th>author</th>\n",
       "      <th>statement</th>\n",
       "      <th>target</th>\n",
       "      <th>BinaryNumTarget</th>\n",
       "      <th>manual_keywords</th>\n",
       "      <th>tweet</th>\n",
       "      <th>5_label_majority_answer</th>\n",
       "      <th>3_label_majority_answer</th>\n",
       "    </tr>\n",
       "  </thead>\n",
       "  <tbody>\n",
       "    <tr>\n",
       "      <th>58262</th>\n",
       "      <td>April Hunt</td>\n",
       "      <td>Unlike marijuana medical cannabis oil cannot g...</td>\n",
       "      <td>True</td>\n",
       "      <td>1.0</td>\n",
       "      <td>medical canabis, cannot, high</td>\n",
       "      <td>You cannot open a medical cannabis dispensary...</td>\n",
       "      <td>Agree</td>\n",
       "      <td>Agree</td>\n",
       "    </tr>\n",
       "    <tr>\n",
       "      <th>40146</th>\n",
       "      <td>Louis Jacobson</td>\n",
       "      <td>There are more words in the IRS code than the...</td>\n",
       "      <td>True</td>\n",
       "      <td>1.0</td>\n",
       "      <td>More words, IRS code, Bible</td>\n",
       "      <td>There are more words in the IRS code than the...</td>\n",
       "      <td>Mostly Disagree</td>\n",
       "      <td>Disagree</td>\n",
       "    </tr>\n",
       "  </tbody>\n",
       "</table>\n",
       "</div>"
      ],
      "text/plain": [
       "               author                                          statement  \\\n",
       "58262      April Hunt  Unlike marijuana medical cannabis oil cannot g...   \n",
       "40146  Louis Jacobson   There are more words in the IRS code than the...   \n",
       "\n",
       "       target  BinaryNumTarget                manual_keywords  \\\n",
       "58262    True              1.0  medical canabis, cannot, high   \n",
       "40146    True              1.0    More words, IRS code, Bible   \n",
       "\n",
       "                                                   tweet  \\\n",
       "58262   You cannot open a medical cannabis dispensary...   \n",
       "40146   There are more words in the IRS code than the...   \n",
       "\n",
       "      5_label_majority_answer 3_label_majority_answer  \n",
       "58262                   Agree                   Agree  \n",
       "40146         Mostly Disagree                Disagree  "
      ]
     },
     "execution_count": 4,
     "metadata": {},
     "output_type": "execute_result"
    }
   ],
   "source": [
    "DATA_PATH = \"../data/truthseeker.csv\"\n",
    "df = pd.read_csv(DATA_PATH)\n",
    "# Comment on on actual execution. For development, this small sample should run quickly on the CPU\n",
    "df = df.sample(frac=0.01,  random_state=27)\n",
    "df.drop(columns=[\"Unnamed: 0\"], inplace=True)\n",
    "df = df[~df[\"5_label_majority_answer\"].isin([\"NO MAJORITY\", \"Unrelated\"])]\n",
    "\n",
    "clean_cols = [\"statement\", \"tweet\"]\n",
    "df[clean_cols] = df[clean_cols].applymap(util.clean_text)\n",
    "\n",
    "print(df.shape)\n",
    "df.head(2)"
   ]
  },
  {
   "cell_type": "code",
   "execution_count": null,
   "metadata": {},
   "outputs": [],
   "source": [
    "# Aggregating tweet-level features for each statement\n",
    "aggregated_features = []\n",
    "for statement, group in df.groupby(\"statement\"):\n",
    "    aggregated_sentiment, aggregated_embedding = util.extract_features(group[\"tweet\"].tolist())\n",
    "    aggregated_features.append([aggregated_sentiment, aggregated_embedding])\n",
    "\n",
    "# Convert aggregated features into a new DataFrame\n",
    "aggregated_df = pd.DataFrame(aggregated_features, columns=[\"Avg_Sentiment\", \"Avg_Embedding\"])\n",
    "\n",
    "# Flatten the embeddings into columns (assuming embedding size is 768)\n",
    "embedding_cols = [f\"Embed_{i}\" for i in range(768)]\n",
    "embedding_df = pd.DataFrame(np.vstack(aggregated_df[\"Avg_Embedding\"].to_numpy()), columns=embedding_cols)\n",
    "\n",
    "# Extract statement-level embeddings\n",
    "statement_embeddings = util.get_statement_embeddings(df[\"statement\"].unique())"
   ]
  },
  {
   "cell_type": "code",
   "execution_count": 10,
   "metadata": {},
   "outputs": [
    {
     "name": "stdout",
     "output_type": "stream",
     "text": [
      "Classification Report:\n",
      "              precision    recall  f1-score   support\n",
      "\n",
      "       False       0.74      0.61      0.67        41\n",
      "        True       0.69      0.80      0.74        45\n",
      "\n",
      "    accuracy                           0.71        86\n",
      "   macro avg       0.71      0.70      0.70        86\n",
      "weighted avg       0.71      0.71      0.71        86\n",
      "\n"
     ]
    }
   ],
   "source": [
    "# Combine all features (sentiment, tweet embeddings, statement embeddings)\n",
    "X = pd.concat([\n",
    "    aggregated_df[[\"Avg_Sentiment\"]],\n",
    "    embedding_df,\n",
    "    pd.DataFrame(statement_embeddings, columns=[f\"Stmt_Embed_{i}\" for i in range(768)])\n",
    "], axis=1)\n",
    "\n",
    "# Define the true/false labels for statements\n",
    "y = df.groupby(\"statement\")[\"target\"].first()\n",
    "\n",
    "# Train a classifier to predict the truth of a statement\n",
    "X_train, X_test, y_train, y_test = train_test_split(X, y, test_size=0.2, random_state=27)\n",
    "classifier = LogisticRegression(max_iter=1000)\n",
    "classifier.fit(X_train, y_train)\n",
    "\n",
    "# Evaluate the model\n",
    "y_pred = classifier.predict(X_test)\n",
    "print(\"Classification Report:\")\n",
    "print(classification_report(y_test, y_pred))"
   ]
  },
  {
   "cell_type": "code",
   "execution_count": null,
   "metadata": {},
   "outputs": [],
   "source": []
  }
 ],
 "metadata": {
  "kernelspec": {
   "display_name": "truth",
   "language": "python",
   "name": "python3"
  },
  "language_info": {
   "codemirror_mode": {
    "name": "ipython",
    "version": 3
   },
   "file_extension": ".py",
   "mimetype": "text/x-python",
   "name": "python",
   "nbconvert_exporter": "python",
   "pygments_lexer": "ipython3",
   "version": "3.12.4"
  }
 },
 "nbformat": 4,
 "nbformat_minor": 2
}
