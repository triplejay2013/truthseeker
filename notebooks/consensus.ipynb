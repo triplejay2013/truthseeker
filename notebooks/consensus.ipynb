{
 "cells": [
  {
   "cell_type": "markdown",
   "metadata": {},
   "source": [
    "# \"Truth\"seeker Project Recreation"
   ]
  },
  {
   "cell_type": "code",
   "execution_count": 1,
   "metadata": {},
   "outputs": [],
   "source": [
    "# Load the autoreload extension\n",
    "%load_ext autoreload\n",
    "\n",
    "# Set autoreload to automatically reload all modules\n",
    "%autoreload 2"
   ]
  },
  {
   "cell_type": "code",
   "execution_count": 2,
   "metadata": {},
   "outputs": [
    {
     "name": "stdout",
     "output_type": "stream",
     "text": [
      "Using device: cuda\n"
     ]
    },
    {
     "name": "stderr",
     "output_type": "stream",
     "text": [
      "/home/nbuser/justinjohnson2/venv/lib/python3.12/site-packages/tqdm/auto.py:21: TqdmWarning: IProgress not found. Please update jupyter and ipywidgets. See https://ipywidgets.readthedocs.io/en/stable/user_install.html\n",
      "  from .autonotebook import tqdm as notebook_tqdm\n"
     ]
    }
   ],
   "source": [
    "import sys\n",
    "import os\n",
    "import torch\n",
    "from pathlib import Path\n",
    "\n",
    "# Add the src directory to sys.path\n",
    "sys.path.append(str(Path().resolve() / \"src\"))\n",
    "\n",
    "device = torch.device(\"cuda\" if torch.cuda.is_available() else \"cpu\")\n",
    "print(f\"Using device: {device}\")\n",
    "\n",
    "# Import util\n",
    "import util"
   ]
  },
  {
   "cell_type": "code",
   "execution_count": 3,
   "metadata": {},
   "outputs": [
    {
     "data": {
      "text/plain": [
       "'cuda'"
      ]
     },
     "execution_count": 3,
     "metadata": {},
     "output_type": "execute_result"
    }
   ],
   "source": [
    "import pandas as pd\n",
    "from torch import cuda\n",
    "from sklearn.model_selection import train_test_split\n",
    "from datasets import Dataset\n",
    "\n",
    "device = 'cuda' if cuda.is_available() else 'cpu'\n",
    "\n",
    "device"
   ]
  },
  {
   "cell_type": "code",
   "execution_count": 4,
   "metadata": {},
   "outputs": [
    {
     "name": "stderr",
     "output_type": "stream",
     "text": [
      "/tmp/ipykernel_321986/2385177840.py:9: FutureWarning: DataFrame.applymap has been deprecated. Use DataFrame.map instead.\n",
      "  df[clean_cols] = df[clean_cols].applymap(util.clean_text)\n"
     ]
    },
    {
     "name": "stdout",
     "output_type": "stream",
     "text": [
      "(111593, 8)\n"
     ]
    },
    {
     "data": {
      "text/html": [
       "<div>\n",
       "<style scoped>\n",
       "    .dataframe tbody tr th:only-of-type {\n",
       "        vertical-align: middle;\n",
       "    }\n",
       "\n",
       "    .dataframe tbody tr th {\n",
       "        vertical-align: top;\n",
       "    }\n",
       "\n",
       "    .dataframe thead th {\n",
       "        text-align: right;\n",
       "    }\n",
       "</style>\n",
       "<table border=\"1\" class=\"dataframe\">\n",
       "  <thead>\n",
       "    <tr style=\"text-align: right;\">\n",
       "      <th></th>\n",
       "      <th>author</th>\n",
       "      <th>statement</th>\n",
       "      <th>target</th>\n",
       "      <th>BinaryNumTarget</th>\n",
       "      <th>manual_keywords</th>\n",
       "      <th>tweet</th>\n",
       "      <th>5_label_majority_answer</th>\n",
       "      <th>3_label_majority_answer</th>\n",
       "    </tr>\n",
       "  </thead>\n",
       "  <tbody>\n",
       "    <tr>\n",
       "      <th>0</th>\n",
       "      <td>D.L. Davis</td>\n",
       "      <td>End of eviction moratorium means millions of A...</td>\n",
       "      <td>True</td>\n",
       "      <td>1.0</td>\n",
       "      <td>Americans, eviction moratorium</td>\n",
       "      <td>Biden Blunders 6 Month Update Inflation Delta...</td>\n",
       "      <td>Mostly Agree</td>\n",
       "      <td>Agree</td>\n",
       "    </tr>\n",
       "    <tr>\n",
       "      <th>2</th>\n",
       "      <td>D.L. Davis</td>\n",
       "      <td>End of eviction moratorium means millions of A...</td>\n",
       "      <td>True</td>\n",
       "      <td>1.0</td>\n",
       "      <td>Americans, eviction moratorium</td>\n",
       "      <td>THE SUPREME COURT is siding with super rich pr...</td>\n",
       "      <td>Agree</td>\n",
       "      <td>Agree</td>\n",
       "    </tr>\n",
       "    <tr>\n",
       "      <th>3</th>\n",
       "      <td>D.L. Davis</td>\n",
       "      <td>End of eviction moratorium means millions of A...</td>\n",
       "      <td>True</td>\n",
       "      <td>1.0</td>\n",
       "      <td>Americans, eviction moratorium</td>\n",
       "      <td>Biden Blunders Broken campaign promises Infla...</td>\n",
       "      <td>Mostly Agree</td>\n",
       "      <td>Agree</td>\n",
       "    </tr>\n",
       "    <tr>\n",
       "      <th>4</th>\n",
       "      <td>D.L. Davis</td>\n",
       "      <td>End of eviction moratorium means millions of A...</td>\n",
       "      <td>True</td>\n",
       "      <td>1.0</td>\n",
       "      <td>Americans, eviction moratorium</td>\n",
       "      <td>I agree. The confluence of events right now i...</td>\n",
       "      <td>Agree</td>\n",
       "      <td>Agree</td>\n",
       "    </tr>\n",
       "    <tr>\n",
       "      <th>5</th>\n",
       "      <td>D.L. Davis</td>\n",
       "      <td>End of eviction moratorium means millions of A...</td>\n",
       "      <td>True</td>\n",
       "      <td>1.0</td>\n",
       "      <td>Americans, eviction moratorium</td>\n",
       "      <td>I've said this before but it really is incredi...</td>\n",
       "      <td>Agree</td>\n",
       "      <td>Agree</td>\n",
       "    </tr>\n",
       "  </tbody>\n",
       "</table>\n",
       "</div>"
      ],
      "text/plain": [
       "       author                                          statement  target  \\\n",
       "0  D.L. Davis  End of eviction moratorium means millions of A...    True   \n",
       "2  D.L. Davis  End of eviction moratorium means millions of A...    True   \n",
       "3  D.L. Davis  End of eviction moratorium means millions of A...    True   \n",
       "4  D.L. Davis  End of eviction moratorium means millions of A...    True   \n",
       "5  D.L. Davis  End of eviction moratorium means millions of A...    True   \n",
       "\n",
       "   BinaryNumTarget                 manual_keywords  \\\n",
       "0              1.0  Americans, eviction moratorium   \n",
       "2              1.0  Americans, eviction moratorium   \n",
       "3              1.0  Americans, eviction moratorium   \n",
       "4              1.0  Americans, eviction moratorium   \n",
       "5              1.0  Americans, eviction moratorium   \n",
       "\n",
       "                                               tweet 5_label_majority_answer  \\\n",
       "0   Biden Blunders 6 Month Update Inflation Delta...            Mostly Agree   \n",
       "2  THE SUPREME COURT is siding with super rich pr...                   Agree   \n",
       "3   Biden Blunders Broken campaign promises Infla...            Mostly Agree   \n",
       "4   I agree. The confluence of events right now i...                   Agree   \n",
       "5  I've said this before but it really is incredi...                   Agree   \n",
       "\n",
       "  3_label_majority_answer  \n",
       "0                   Agree  \n",
       "2                   Agree  \n",
       "3                   Agree  \n",
       "4                   Agree  \n",
       "5                   Agree  "
      ]
     },
     "execution_count": 4,
     "metadata": {},
     "output_type": "execute_result"
    }
   ],
   "source": [
    "DATA_PATH = \"truthseeker.csv\"\n",
    "df = pd.read_csv(DATA_PATH)\n",
    "# Comment on on actual execution. For development, this small sample should run quickly on the CPU\n",
    "#df = df.sample(frac=0.01,  random_state=27)\n",
    "df.drop(columns=[\"Unnamed: 0\"], inplace=True)\n",
    "df = df[~df[\"5_label_majority_answer\"].isin([\"NO MAJORITY\", \"Unrelated\"])]\n",
    "\n",
    "clean_cols = [\"statement\", \"tweet\"]\n",
    "df[clean_cols] = df[clean_cols].applymap(util.clean_text)\n",
    "\n",
    "print(df.shape)\n",
    "df.head()"
   ]
  },
  {
   "cell_type": "code",
   "execution_count": 5,
   "metadata": {},
   "outputs": [
    {
     "data": {
      "text/plain": [
       "0         True Statement: End of eviction moratorium mea...\n",
       "2         True Statement: End of eviction moratorium mea...\n",
       "3         True Statement: End of eviction moratorium mea...\n",
       "4         True Statement: End of eviction moratorium mea...\n",
       "5         True Statement: End of eviction moratorium mea...\n",
       "                                ...                        \n",
       "134192    False Statement: Joe Bidens great grandfather ...\n",
       "134193    False Statement: Joe Bidens great grandfather ...\n",
       "134194    False Statement: Joe Bidens great grandfather ...\n",
       "134195    False Statement: Joe Bidens great grandfather ...\n",
       "134197    False Statement: Joe Bidens great grandfather ...\n",
       "Name: full, Length: 111593, dtype: object"
      ]
     },
     "execution_count": 5,
     "metadata": {},
     "output_type": "execute_result"
    }
   ],
   "source": [
    "# Combine tweet + statement + \"ground truth\" value for training.\n",
    "df['full'] = df['target'].astype(str) + ' Statement: ' + df['statement'] + '| Tweet: ' + df['tweet']\n",
    "df['full']"
   ]
  },
  {
   "cell_type": "code",
   "execution_count": 6,
   "metadata": {},
   "outputs": [
    {
     "data": {
      "text/html": [
       "<div>\n",
       "<style scoped>\n",
       "    .dataframe tbody tr th:only-of-type {\n",
       "        vertical-align: middle;\n",
       "    }\n",
       "\n",
       "    .dataframe tbody tr th {\n",
       "        vertical-align: top;\n",
       "    }\n",
       "\n",
       "    .dataframe thead th {\n",
       "        text-align: right;\n",
       "    }\n",
       "</style>\n",
       "<table border=\"1\" class=\"dataframe\">\n",
       "  <thead>\n",
       "    <tr style=\"text-align: right;\">\n",
       "      <th></th>\n",
       "      <th>author</th>\n",
       "      <th>statement</th>\n",
       "      <th>target</th>\n",
       "      <th>BinaryNumTarget</th>\n",
       "      <th>manual_keywords</th>\n",
       "      <th>tweet</th>\n",
       "      <th>5_label_majority_answer</th>\n",
       "      <th>3_label_majority_answer</th>\n",
       "      <th>full</th>\n",
       "      <th>labels</th>\n",
       "    </tr>\n",
       "  </thead>\n",
       "  <tbody>\n",
       "    <tr>\n",
       "      <th>0</th>\n",
       "      <td>D.L. Davis</td>\n",
       "      <td>End of eviction moratorium means millions of A...</td>\n",
       "      <td>True</td>\n",
       "      <td>1.0</td>\n",
       "      <td>Americans, eviction moratorium</td>\n",
       "      <td>Biden Blunders 6 Month Update Inflation Delta...</td>\n",
       "      <td>Mostly Agree</td>\n",
       "      <td>Agree</td>\n",
       "      <td>True Statement: End of eviction moratorium mea...</td>\n",
       "      <td>0</td>\n",
       "    </tr>\n",
       "    <tr>\n",
       "      <th>2</th>\n",
       "      <td>D.L. Davis</td>\n",
       "      <td>End of eviction moratorium means millions of A...</td>\n",
       "      <td>True</td>\n",
       "      <td>1.0</td>\n",
       "      <td>Americans, eviction moratorium</td>\n",
       "      <td>THE SUPREME COURT is siding with super rich pr...</td>\n",
       "      <td>Agree</td>\n",
       "      <td>Agree</td>\n",
       "      <td>True Statement: End of eviction moratorium mea...</td>\n",
       "      <td>0</td>\n",
       "    </tr>\n",
       "    <tr>\n",
       "      <th>3</th>\n",
       "      <td>D.L. Davis</td>\n",
       "      <td>End of eviction moratorium means millions of A...</td>\n",
       "      <td>True</td>\n",
       "      <td>1.0</td>\n",
       "      <td>Americans, eviction moratorium</td>\n",
       "      <td>Biden Blunders Broken campaign promises Infla...</td>\n",
       "      <td>Mostly Agree</td>\n",
       "      <td>Agree</td>\n",
       "      <td>True Statement: End of eviction moratorium mea...</td>\n",
       "      <td>0</td>\n",
       "    </tr>\n",
       "  </tbody>\n",
       "</table>\n",
       "</div>"
      ],
      "text/plain": [
       "       author                                          statement  target  \\\n",
       "0  D.L. Davis  End of eviction moratorium means millions of A...    True   \n",
       "2  D.L. Davis  End of eviction moratorium means millions of A...    True   \n",
       "3  D.L. Davis  End of eviction moratorium means millions of A...    True   \n",
       "\n",
       "   BinaryNumTarget                 manual_keywords  \\\n",
       "0              1.0  Americans, eviction moratorium   \n",
       "2              1.0  Americans, eviction moratorium   \n",
       "3              1.0  Americans, eviction moratorium   \n",
       "\n",
       "                                               tweet 5_label_majority_answer  \\\n",
       "0   Biden Blunders 6 Month Update Inflation Delta...            Mostly Agree   \n",
       "2  THE SUPREME COURT is siding with super rich pr...                   Agree   \n",
       "3   Biden Blunders Broken campaign promises Infla...            Mostly Agree   \n",
       "\n",
       "  3_label_majority_answer                                               full  \\\n",
       "0                   Agree  True Statement: End of eviction moratorium mea...   \n",
       "2                   Agree  True Statement: End of eviction moratorium mea...   \n",
       "3                   Agree  True Statement: End of eviction moratorium mea...   \n",
       "\n",
       "   labels  \n",
       "0       0  \n",
       "2       0  \n",
       "3       0  "
      ]
     },
     "execution_count": 6,
     "metadata": {},
     "output_type": "execute_result"
    }
   ],
   "source": [
    "#CATEGORY = \"5_label_majority_answer\"\n",
    "CATEGORY = \"3_label_majority_answer\"\n",
    "df[\"labels\"] = df[CATEGORY].astype(\"category\").cat.codes\n",
    "df.head(3)"
   ]
  },
  {
   "cell_type": "code",
   "execution_count": 7,
   "metadata": {},
   "outputs": [
    {
     "data": {
      "text/html": [
       "<div>\n",
       "<style scoped>\n",
       "    .dataframe tbody tr th:only-of-type {\n",
       "        vertical-align: middle;\n",
       "    }\n",
       "\n",
       "    .dataframe tbody tr th {\n",
       "        vertical-align: top;\n",
       "    }\n",
       "\n",
       "    .dataframe thead th {\n",
       "        text-align: right;\n",
       "    }\n",
       "</style>\n",
       "<table border=\"1\" class=\"dataframe\">\n",
       "  <thead>\n",
       "    <tr style=\"text-align: right;\">\n",
       "      <th></th>\n",
       "      <th>author</th>\n",
       "      <th>statement</th>\n",
       "      <th>target</th>\n",
       "      <th>BinaryNumTarget</th>\n",
       "      <th>manual_keywords</th>\n",
       "      <th>tweet</th>\n",
       "      <th>5_label_majority_answer</th>\n",
       "      <th>3_label_majority_answer</th>\n",
       "      <th>full</th>\n",
       "      <th>labels</th>\n",
       "    </tr>\n",
       "  </thead>\n",
       "  <tbody>\n",
       "    <tr>\n",
       "      <th>0</th>\n",
       "      <td>D.L. Davis</td>\n",
       "      <td>End of eviction moratorium means millions of A...</td>\n",
       "      <td>True</td>\n",
       "      <td>1.0</td>\n",
       "      <td>Americans, eviction moratorium</td>\n",
       "      <td>Biden Blunders 6 Month Update Inflation Delta...</td>\n",
       "      <td>Mostly Agree</td>\n",
       "      <td>Agree</td>\n",
       "      <td>True Statement: End of eviction moratorium mea...</td>\n",
       "      <td>0</td>\n",
       "    </tr>\n",
       "    <tr>\n",
       "      <th>2</th>\n",
       "      <td>D.L. Davis</td>\n",
       "      <td>End of eviction moratorium means millions of A...</td>\n",
       "      <td>True</td>\n",
       "      <td>1.0</td>\n",
       "      <td>Americans, eviction moratorium</td>\n",
       "      <td>THE SUPREME COURT is siding with super rich pr...</td>\n",
       "      <td>Agree</td>\n",
       "      <td>Agree</td>\n",
       "      <td>True Statement: End of eviction moratorium mea...</td>\n",
       "      <td>0</td>\n",
       "    </tr>\n",
       "    <tr>\n",
       "      <th>3</th>\n",
       "      <td>D.L. Davis</td>\n",
       "      <td>End of eviction moratorium means millions of A...</td>\n",
       "      <td>True</td>\n",
       "      <td>1.0</td>\n",
       "      <td>Americans, eviction moratorium</td>\n",
       "      <td>Biden Blunders Broken campaign promises Infla...</td>\n",
       "      <td>Mostly Agree</td>\n",
       "      <td>Agree</td>\n",
       "      <td>True Statement: End of eviction moratorium mea...</td>\n",
       "      <td>0</td>\n",
       "    </tr>\n",
       "  </tbody>\n",
       "</table>\n",
       "</div>"
      ],
      "text/plain": [
       "       author                                          statement  target  \\\n",
       "0  D.L. Davis  End of eviction moratorium means millions of A...    True   \n",
       "2  D.L. Davis  End of eviction moratorium means millions of A...    True   \n",
       "3  D.L. Davis  End of eviction moratorium means millions of A...    True   \n",
       "\n",
       "   BinaryNumTarget                 manual_keywords  \\\n",
       "0              1.0  Americans, eviction moratorium   \n",
       "2              1.0  Americans, eviction moratorium   \n",
       "3              1.0  Americans, eviction moratorium   \n",
       "\n",
       "                                               tweet 5_label_majority_answer  \\\n",
       "0   Biden Blunders 6 Month Update Inflation Delta...            Mostly Agree   \n",
       "2  THE SUPREME COURT is siding with super rich pr...                   Agree   \n",
       "3   Biden Blunders Broken campaign promises Infla...            Mostly Agree   \n",
       "\n",
       "  3_label_majority_answer                                               full  \\\n",
       "0                   Agree  True Statement: End of eviction moratorium mea...   \n",
       "2                   Agree  True Statement: End of eviction moratorium mea...   \n",
       "3                   Agree  True Statement: End of eviction moratorium mea...   \n",
       "\n",
       "   labels  \n",
       "0       0  \n",
       "2       0  \n",
       "3       0  "
      ]
     },
     "execution_count": 7,
     "metadata": {},
     "output_type": "execute_result"
    }
   ],
   "source": [
    "# Split data into train (80%), validation (10%), and test (10%) splits\n",
    "train_statements, temp_statements = train_test_split(df['statement'].unique(), test_size=0.2, random_state=27)\n",
    "valid_statements, test_statements = train_test_split(temp_statements, test_size=0.5, random_state=27)\n",
    "\n",
    "# Create the dataframes based on the statements\n",
    "train_df = df[df['statement'].isin(train_statements)]\n",
    "valid_df = df[df['statement'].isin(valid_statements)]\n",
    "test_df = df[df['statement'].isin(test_statements)]\n",
    "\n",
    "train_df.head(3)"
   ]
  },
  {
   "cell_type": "code",
   "execution_count": 8,
   "metadata": {},
   "outputs": [
    {
     "name": "stderr",
     "output_type": "stream",
     "text": [
      "Map: 100%|█████████████████████████████████████████████████████████████████████████████████████████████████████████████████████████████████████████████████████████████████| 89817/89817 [00:54<00:00, 1633.18 examples/s]\n",
      "Map: 100%|█████████████████████████████████████████████████████████████████████████████████████████████████████████████████████████████████████████████████████████████████| 10338/10338 [00:07<00:00, 1425.69 examples/s]\n",
      "Map: 100%|█████████████████████████████████████████████████████████████████████████████████████████████████████████████████████████████████████████████████████████████████| 11438/11438 [00:06<00:00, 1673.52 examples/s]\n"
     ]
    }
   ],
   "source": [
    "# Convert train and test DataFrames into Hugging Face Datasets\n",
    "train_dataset = Dataset.from_pandas(train_df)\n",
    "test_dataset = Dataset.from_pandas(test_df)\n",
    "valid_dataset = Dataset.from_pandas(valid_df)\n",
    "\n",
    "train_dataset = train_dataset.map(util.tokenize_function, batched=True)\n",
    "test_dataset = test_dataset.map(util.tokenize_function, batched=True)\n",
    "valid_dataset = valid_dataset.map(util.tokenize_function, batched=True)"
   ]
  },
  {
   "cell_type": "code",
   "execution_count": 9,
   "metadata": {},
   "outputs": [
    {
     "name": "stderr",
     "output_type": "stream",
     "text": [
      "/home/nbuser/justinjohnson2/venv/lib/python3.12/site-packages/transformers/training_args.py:1568: FutureWarning: `evaluation_strategy` is deprecated and will be removed in version 4.46 of 🤗 Transformers. Use `eval_strategy` instead\n",
      "  warnings.warn(\n",
      "/home/nbuser/justinjohnson2/src/util.py:163: FutureWarning: `tokenizer` is deprecated and will be removed in version 5.0.0 for `Trainer.__init__`. Use `processing_class` instead.\n",
      "  trainer = Trainer(\n"
     ]
    },
    {
     "data": {
      "text/html": [
       "\n",
       "    <div>\n",
       "      \n",
       "      <progress value='8421' max='8421' style='width:300px; height:20px; vertical-align: middle;'></progress>\n",
       "      [8421/8421 13:19, Epoch 3/3]\n",
       "    </div>\n",
       "    <table border=\"1\" class=\"dataframe\">\n",
       "  <thead>\n",
       " <tr style=\"text-align: left;\">\n",
       "      <th>Epoch</th>\n",
       "      <th>Training Loss</th>\n",
       "      <th>Validation Loss</th>\n",
       "      <th>Accuracy</th>\n",
       "    </tr>\n",
       "  </thead>\n",
       "  <tbody>\n",
       "    <tr>\n",
       "      <td>1</td>\n",
       "      <td>0.497600</td>\n",
       "      <td>0.494375</td>\n",
       "      <td>0.969917</td>\n",
       "    </tr>\n",
       "    <tr>\n",
       "      <td>2</td>\n",
       "      <td>0.431900</td>\n",
       "      <td>0.419700</td>\n",
       "      <td>0.969917</td>\n",
       "    </tr>\n",
       "    <tr>\n",
       "      <td>3</td>\n",
       "      <td>0.407200</td>\n",
       "      <td>0.399449</td>\n",
       "      <td>0.969917</td>\n",
       "    </tr>\n",
       "  </tbody>\n",
       "</table><p>"
      ],
      "text/plain": [
       "<IPython.core.display.HTML object>"
      ]
     },
     "metadata": {},
     "output_type": "display_data"
    },
    {
     "data": {
      "text/html": [],
      "text/plain": [
       "<IPython.core.display.HTML object>"
      ]
     },
     "metadata": {},
     "output_type": "display_data"
    },
    {
     "name": "stdout",
     "output_type": "stream",
     "text": [
      "Test Accuracy: 0.9699168117624298\n",
      "Validation Accuracy: 0.9705368071341144\n"
     ]
    }
   ],
   "source": [
    "OUT = \"2_class\"\n",
    "# OUT = \"4_class\"\n",
    "test_acc, valid_acc = util.train(train_dataset, test_dataset, valid_dataset, OUT)"
   ]
  },
  {
   "cell_type": "code",
   "execution_count": 12,
   "metadata": {},
   "outputs": [
    {
     "data": {
      "image/png": "[encoded data removed]",
      "text/plain": [
       "<Figure size 1000x500 with 1 Axes>"
      ]
     },
     "metadata": {},
     "output_type": "display_data"
    },
    {
     "data": {
      "image/png": "[encoded data removed]",
      "text/plain": [
       "<Figure size 1000x500 with 1 Axes>"
      ]
     },
     "metadata": {},
     "output_type": "display_data"
    }
   ],
   "source": [
    "import matplotlib.pyplot as plt\n",
    "\n",
    "# Load the training metrics CSV file\n",
    "df = pd.read_csv('logs/2_class/training_metrics.csv')\n",
    "# Forward-fill NaN values with the previous non-NaN value\n",
    "df['eval_loss'] = df['eval_loss'].ffill()\n",
    "df['train_loss'] = df['train_loss'].ffill()\n",
    "df['eval_accuracy'] = df['eval_accuracy'].ffill()\n",
    "df['train_accuracy'] = df['train_accuracy'].ffill()\n",
    "\n",
    "# Plot training and evaluation loss\n",
    "plt.figure(figsize=(10, 5))\n",
    "plt.plot(df['epoch'], df['train_loss'], label='Train Loss')\n",
    "plt.plot(df['epoch'], df['eval_loss'], label='Eval Loss')\n",
    "plt.xlabel('Epoch')\n",
    "plt.ylabel('Loss')\n",
    "plt.legend()\n",
    "plt.title('Loss during Training')\n",
    "plt.savefig(f\"./logs/{OUT}/loss.png\")\n",
    "plt.show()\n",
    "\n",
    "# Plot evaluation accuracy\n",
    "plt.figure(figsize=(10, 5))\n",
    "plt.plot(df['epoch'], df['eval_accuracy'], label='Eval Accuracy')\n",
    "plt.axhline(y=test_acc, color='red', linestyle='--', label=f'Test Accuracy: {test_acc:.2f}')\n",
    "plt.axhline(y=valid_acc, color='purple', linestyle='--', label=f'Validation Accuracy: {valid_acc:.2f}')\n",
    "plt.xlabel('Epoch')\n",
    "plt.ylabel('Accuracy')\n",
    "plt.legend()\n",
    "plt.title('Accuracy during Training')\n",
    "plt.savefig(f\"./logs/{OUT}/accuracy.png\")\n",
    "plt.show()"
   ]
  },
  {
   "cell_type": "code",
   "execution_count": null,
   "metadata": {},
   "outputs": [],
   "source": []
  }
 ],
 "metadata": {
  "kernelspec": {
   "display_name": "kernel",
   "language": "python",
   "name": "kernel"
  },
  "language_info": {
   "codemirror_mode": {
    "name": "ipython",
    "version": 3
   },
   "file_extension": ".py",
   "mimetype": "text/x-python",
   "name": "python",
   "nbconvert_exporter": "python",
   "pygments_lexer": "ipython3",
   "version": "3.12.3"
  }
 },
 "nbformat": 4,
 "nbformat_minor": 4
}
