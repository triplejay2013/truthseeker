{
 "cells": [
  {
   "cell_type": "markdown",
   "metadata": {},
   "source": [
    "# \"Truth\"seeker Project Recreation"
   ]
  },
  {
   "cell_type": "code",
   "execution_count": 38,
   "metadata": {},
   "outputs": [
    {
     "name": "stdout",
     "output_type": "stream",
     "text": [
      "The autoreload extension is already loaded. To reload it, use:\n",
      "  %reload_ext autoreload\n"
     ]
    }
   ],
   "source": [
    "# Load the autoreload extension\n",
    "%load_ext autoreload\n",
    "\n",
    "# Set autoreload to automatically reload all modules\n",
    "%autoreload 2"
   ]
  },
  {
   "cell_type": "code",
   "execution_count": 39,
   "metadata": {},
   "outputs": [],
   "source": [
    "import sys\n",
    "from pathlib import Path\n",
    "\n",
    "# Add the src directory to sys.path\n",
    "sys.path.append(str(Path().resolve() / \"src\"))\n",
    "\n",
    "# Import util\n",
    "import util"
   ]
  },
  {
   "cell_type": "code",
   "execution_count": 40,
   "metadata": {},
   "outputs": [
    {
     "data": {
      "text/plain": [
       "'cpu'"
      ]
     },
     "execution_count": 40,
     "metadata": {},
     "output_type": "execute_result"
    }
   ],
   "source": [
    "import pandas as pd\n",
    "from torch import cuda\n",
    "from sklearn.model_selection import train_test_split\n",
    "from datasets import Dataset\n",
    "\n",
    "device = 'cuda' if cuda.is_available() else 'cpu'\n",
    "\n",
    "device"
   ]
  },
  {
   "cell_type": "code",
   "execution_count": 41,
   "metadata": {},
   "outputs": [
    {
     "name": "stdout",
     "output_type": "stream",
     "text": [
      "(10, 8)\n"
     ]
    },
    {
     "name": "stderr",
     "output_type": "stream",
     "text": [
      "C:\\Users\\Straakh\\AppData\\Local\\Temp\\ipykernel_15704\\1329652520.py:9: FutureWarning: DataFrame.applymap has been deprecated. Use DataFrame.map instead.\n",
      "  df[clean_cols] = df[clean_cols].applymap(util.clean_text)\n"
     ]
    },
    {
     "data": {
      "text/html": [
       "<div>\n",
       "<style scoped>\n",
       "    .dataframe tbody tr th:only-of-type {\n",
       "        vertical-align: middle;\n",
       "    }\n",
       "\n",
       "    .dataframe tbody tr th {\n",
       "        vertical-align: top;\n",
       "    }\n",
       "\n",
       "    .dataframe thead th {\n",
       "        text-align: right;\n",
       "    }\n",
       "</style>\n",
       "<table border=\"1\" class=\"dataframe\">\n",
       "  <thead>\n",
       "    <tr style=\"text-align: right;\">\n",
       "      <th></th>\n",
       "      <th>author</th>\n",
       "      <th>statement</th>\n",
       "      <th>target</th>\n",
       "      <th>BinaryNumTarget</th>\n",
       "      <th>manual_keywords</th>\n",
       "      <th>tweet</th>\n",
       "      <th>5_label_majority_answer</th>\n",
       "      <th>3_label_majority_answer</th>\n",
       "    </tr>\n",
       "  </thead>\n",
       "  <tbody>\n",
       "    <tr>\n",
       "      <th>58262</th>\n",
       "      <td>April Hunt</td>\n",
       "      <td>Unlike marijuana medical cannabis oil cannot g...</td>\n",
       "      <td>True</td>\n",
       "      <td>1.0</td>\n",
       "      <td>medical canabis, cannot, high</td>\n",
       "      <td>You cannot open a medical cannabis dispensary...</td>\n",
       "      <td>Agree</td>\n",
       "      <td>Agree</td>\n",
       "    </tr>\n",
       "    <tr>\n",
       "      <th>40146</th>\n",
       "      <td>Louis Jacobson</td>\n",
       "      <td>There are more words in the IRS code than the...</td>\n",
       "      <td>True</td>\n",
       "      <td>1.0</td>\n",
       "      <td>More words, IRS code, Bible</td>\n",
       "      <td>There are more words in the IRS code than the...</td>\n",
       "      <td>Mostly Disagree</td>\n",
       "      <td>Disagree</td>\n",
       "    </tr>\n",
       "    <tr>\n",
       "      <th>77627</th>\n",
       "      <td>Ciara O'Rourke</td>\n",
       "      <td>In 38 days Pelosi and Schiff are up for reelec...</td>\n",
       "      <td>False</td>\n",
       "      <td>0.0</td>\n",
       "      <td>Pelosi, Schiff, reelection</td>\n",
       "      <td>All of the players in this coup need to be inv...</td>\n",
       "      <td>Agree</td>\n",
       "      <td>Agree</td>\n",
       "    </tr>\n",
       "    <tr>\n",
       "      <th>103400</th>\n",
       "      <td>Jon Greenberg</td>\n",
       "      <td>21 of people are having serious adverse events...</td>\n",
       "      <td>False</td>\n",
       "      <td>0.0</td>\n",
       "      <td>21%,adverse,moderna</td>\n",
       "      <td>_AskMD Not hypothesis Judge forced FDA to FOI...</td>\n",
       "      <td>Disagree</td>\n",
       "      <td>Disagree</td>\n",
       "    </tr>\n",
       "    <tr>\n",
       "      <th>52117</th>\n",
       "      <td>Tom Kertscher</td>\n",
       "      <td>Says Donald Trump won Arizona.</td>\n",
       "      <td>False</td>\n",
       "      <td>0.0</td>\n",
       "      <td>trump Arizona win</td>\n",
       "      <td>Meghan you have been removed from the Republi...</td>\n",
       "      <td>Agree</td>\n",
       "      <td>Agree</td>\n",
       "    </tr>\n",
       "  </tbody>\n",
       "</table>\n",
       "</div>"
      ],
      "text/plain": [
       "                author                                          statement  \\\n",
       "58262       April Hunt  Unlike marijuana medical cannabis oil cannot g...   \n",
       "40146   Louis Jacobson   There are more words in the IRS code than the...   \n",
       "77627   Ciara O'Rourke  In 38 days Pelosi and Schiff are up for reelec...   \n",
       "103400   Jon Greenberg  21 of people are having serious adverse events...   \n",
       "52117    Tom Kertscher                     Says Donald Trump won Arizona.   \n",
       "\n",
       "        target  BinaryNumTarget                manual_keywords  \\\n",
       "58262     True              1.0  medical canabis, cannot, high   \n",
       "40146     True              1.0    More words, IRS code, Bible   \n",
       "77627    False              0.0     Pelosi, Schiff, reelection   \n",
       "103400   False              0.0            21%,adverse,moderna   \n",
       "52117    False              0.0              trump Arizona win   \n",
       "\n",
       "                                                    tweet  \\\n",
       "58262    You cannot open a medical cannabis dispensary...   \n",
       "40146    There are more words in the IRS code than the...   \n",
       "77627   All of the players in this coup need to be inv...   \n",
       "103400   _AskMD Not hypothesis Judge forced FDA to FOI...   \n",
       "52117    Meghan you have been removed from the Republi...   \n",
       "\n",
       "       5_label_majority_answer 3_label_majority_answer  \n",
       "58262                    Agree                   Agree  \n",
       "40146          Mostly Disagree                Disagree  \n",
       "77627                    Agree                   Agree  \n",
       "103400                Disagree                Disagree  \n",
       "52117                    Agree                   Agree  "
      ]
     },
     "execution_count": 41,
     "metadata": {},
     "output_type": "execute_result"
    }
   ],
   "source": [
    "DATA_PATH = \"../data/truthseeker.csv\"\n",
    "df = pd.read_csv(DATA_PATH)\n",
    "# Comment on on actual execution. For development, this small sample should run quickly on the CPU\n",
    "df = df.sample(frac=0.0001,  random_state=27)\n",
    "df.drop(columns=[\"Unnamed: 0\"], inplace=True)\n",
    "df = df[~df[\"5_label_majority_answer\"].isin([\"NO MAJORITY\", \"Unrelated\"])]\n",
    "\n",
    "clean_cols = [\"statement\", \"tweet\"]\n",
    "df[clean_cols] = df[clean_cols].applymap(util.clean_text)\n",
    "\n",
    "print(df.shape)\n",
    "df.head()"
   ]
  },
  {
   "cell_type": "code",
   "execution_count": 42,
   "metadata": {},
   "outputs": [
    {
     "data": {
      "text/plain": [
       "58262     True Statement: Unlike marijuana medical canna...\n",
       "40146     True Statement:  There are more words in the I...\n",
       "77627     False Statement: In 38 days Pelosi and Schiff ...\n",
       "103400    False Statement: 21 of people are having serio...\n",
       "52117     False Statement: Says Donald Trump won Arizona...\n",
       "6117      True Statement: Murders this year have spiked ...\n",
       "59604     True Statement: More people are apprehended af...\n",
       "1211      True Statement: In Afghanistan over 100 billio...\n",
       "55551     False Statement:  Records suggest more than 10...\n",
       "69439     True Statement:  Texas has the highest rate of...\n",
       "Name: full, dtype: object"
      ]
     },
     "execution_count": 42,
     "metadata": {},
     "output_type": "execute_result"
    }
   ],
   "source": [
    "# Combine tweet + statement + \"ground truth\" value for training.\n",
    "df['full'] = df['target'].astype(str) + ' Statement: ' + df['statement'] + '| Tweet: ' + df['tweet']\n",
    "df['full']"
   ]
  },
  {
   "cell_type": "code",
   "execution_count": null,
   "metadata": {},
   "outputs": [
    {
     "data": {
      "text/html": [
       "<div>\n",
       "<style scoped>\n",
       "    .dataframe tbody tr th:only-of-type {\n",
       "        vertical-align: middle;\n",
       "    }\n",
       "\n",
       "    .dataframe tbody tr th {\n",
       "        vertical-align: top;\n",
       "    }\n",
       "\n",
       "    .dataframe thead th {\n",
       "        text-align: right;\n",
       "    }\n",
       "</style>\n",
       "<table border=\"1\" class=\"dataframe\">\n",
       "  <thead>\n",
       "    <tr style=\"text-align: right;\">\n",
       "      <th></th>\n",
       "      <th>author</th>\n",
       "      <th>statement</th>\n",
       "      <th>target</th>\n",
       "      <th>BinaryNumTarget</th>\n",
       "      <th>manual_keywords</th>\n",
       "      <th>tweet</th>\n",
       "      <th>5_label_majority_answer</th>\n",
       "      <th>3_label_majority_answer</th>\n",
       "      <th>full</th>\n",
       "      <th>consensus</th>\n",
       "      <th>labels</th>\n",
       "    </tr>\n",
       "  </thead>\n",
       "  <tbody>\n",
       "    <tr>\n",
       "      <th>58262</th>\n",
       "      <td>April Hunt</td>\n",
       "      <td>Unlike marijuana medical cannabis oil cannot g...</td>\n",
       "      <td>True</td>\n",
       "      <td>1.0</td>\n",
       "      <td>medical canabis, cannot, high</td>\n",
       "      <td>You cannot open a medical cannabis dispensary...</td>\n",
       "      <td>Agree</td>\n",
       "      <td>Agree</td>\n",
       "      <td>True Statement: Unlike marijuana medical canna...</td>\n",
       "      <td>True</td>\n",
       "      <td>0</td>\n",
       "    </tr>\n",
       "    <tr>\n",
       "      <th>40146</th>\n",
       "      <td>Louis Jacobson</td>\n",
       "      <td>There are more words in the IRS code than the...</td>\n",
       "      <td>True</td>\n",
       "      <td>1.0</td>\n",
       "      <td>More words, IRS code, Bible</td>\n",
       "      <td>There are more words in the IRS code than the...</td>\n",
       "      <td>Mostly Disagree</td>\n",
       "      <td>Disagree</td>\n",
       "      <td>True Statement:  There are more words in the I...</td>\n",
       "      <td>False</td>\n",
       "      <td>1</td>\n",
       "    </tr>\n",
       "    <tr>\n",
       "      <th>77627</th>\n",
       "      <td>Ciara O'Rourke</td>\n",
       "      <td>In 38 days Pelosi and Schiff are up for reelec...</td>\n",
       "      <td>False</td>\n",
       "      <td>0.0</td>\n",
       "      <td>Pelosi, Schiff, reelection</td>\n",
       "      <td>All of the players in this coup need to be inv...</td>\n",
       "      <td>Agree</td>\n",
       "      <td>Agree</td>\n",
       "      <td>False Statement: In 38 days Pelosi and Schiff ...</td>\n",
       "      <td>False</td>\n",
       "      <td>0</td>\n",
       "    </tr>\n",
       "  </tbody>\n",
       "</table>\n",
       "</div>"
      ],
      "text/plain": [
       "               author                                          statement  \\\n",
       "58262      April Hunt  Unlike marijuana medical cannabis oil cannot g...   \n",
       "40146  Louis Jacobson   There are more words in the IRS code than the...   \n",
       "77627  Ciara O'Rourke  In 38 days Pelosi and Schiff are up for reelec...   \n",
       "\n",
       "       target  BinaryNumTarget                manual_keywords  \\\n",
       "58262    True              1.0  medical canabis, cannot, high   \n",
       "40146    True              1.0    More words, IRS code, Bible   \n",
       "77627   False              0.0     Pelosi, Schiff, reelection   \n",
       "\n",
       "                                                   tweet  \\\n",
       "58262   You cannot open a medical cannabis dispensary...   \n",
       "40146   There are more words in the IRS code than the...   \n",
       "77627  All of the players in this coup need to be inv...   \n",
       "\n",
       "      5_label_majority_answer 3_label_majority_answer  \\\n",
       "58262                   Agree                   Agree   \n",
       "40146         Mostly Disagree                Disagree   \n",
       "77627                   Agree                   Agree   \n",
       "\n",
       "                                                    full consensus  labels  \n",
       "58262  True Statement: Unlike marijuana medical canna...      True       0  \n",
       "40146  True Statement:  There are more words in the I...     False       1  \n",
       "77627  False Statement: In 38 days Pelosi and Schiff ...     False       0  "
      ]
     },
     "execution_count": 43,
     "metadata": {},
     "output_type": "execute_result"
    }
   ],
   "source": [
    "#CATEGORY = \"5_label_majority_answer\"\n",
    "CATEGORY = \"3_label_majority_answer\"\n",
    "df[\"labels\"] = df[CATEGORY].astype(\"category\").cat.codes\n",
    "df.head(3)"
   ]
  },
  {
   "cell_type": "code",
   "execution_count": 44,
   "metadata": {},
   "outputs": [
    {
     "data": {
      "text/html": [
       "<div>\n",
       "<style scoped>\n",
       "    .dataframe tbody tr th:only-of-type {\n",
       "        vertical-align: middle;\n",
       "    }\n",
       "\n",
       "    .dataframe tbody tr th {\n",
       "        vertical-align: top;\n",
       "    }\n",
       "\n",
       "    .dataframe thead th {\n",
       "        text-align: right;\n",
       "    }\n",
       "</style>\n",
       "<table border=\"1\" class=\"dataframe\">\n",
       "  <thead>\n",
       "    <tr style=\"text-align: right;\">\n",
       "      <th></th>\n",
       "      <th>author</th>\n",
       "      <th>statement</th>\n",
       "      <th>target</th>\n",
       "      <th>BinaryNumTarget</th>\n",
       "      <th>manual_keywords</th>\n",
       "      <th>tweet</th>\n",
       "      <th>5_label_majority_answer</th>\n",
       "      <th>3_label_majority_answer</th>\n",
       "      <th>full</th>\n",
       "      <th>consensus</th>\n",
       "      <th>labels</th>\n",
       "    </tr>\n",
       "  </thead>\n",
       "  <tbody>\n",
       "    <tr>\n",
       "      <th>58262</th>\n",
       "      <td>April Hunt</td>\n",
       "      <td>Unlike marijuana medical cannabis oil cannot g...</td>\n",
       "      <td>True</td>\n",
       "      <td>1.0</td>\n",
       "      <td>medical canabis, cannot, high</td>\n",
       "      <td>You cannot open a medical cannabis dispensary...</td>\n",
       "      <td>Agree</td>\n",
       "      <td>Agree</td>\n",
       "      <td>True Statement: Unlike marijuana medical canna...</td>\n",
       "      <td>True</td>\n",
       "      <td>0</td>\n",
       "    </tr>\n",
       "    <tr>\n",
       "      <th>40146</th>\n",
       "      <td>Louis Jacobson</td>\n",
       "      <td>There are more words in the IRS code than the...</td>\n",
       "      <td>True</td>\n",
       "      <td>1.0</td>\n",
       "      <td>More words, IRS code, Bible</td>\n",
       "      <td>There are more words in the IRS code than the...</td>\n",
       "      <td>Mostly Disagree</td>\n",
       "      <td>Disagree</td>\n",
       "      <td>True Statement:  There are more words in the I...</td>\n",
       "      <td>False</td>\n",
       "      <td>1</td>\n",
       "    </tr>\n",
       "    <tr>\n",
       "      <th>103400</th>\n",
       "      <td>Jon Greenberg</td>\n",
       "      <td>21 of people are having serious adverse events...</td>\n",
       "      <td>False</td>\n",
       "      <td>0.0</td>\n",
       "      <td>21%,adverse,moderna</td>\n",
       "      <td>_AskMD Not hypothesis Judge forced FDA to FOI...</td>\n",
       "      <td>Disagree</td>\n",
       "      <td>Disagree</td>\n",
       "      <td>False Statement: 21 of people are having serio...</td>\n",
       "      <td>True</td>\n",
       "      <td>1</td>\n",
       "    </tr>\n",
       "  </tbody>\n",
       "</table>\n",
       "</div>"
      ],
      "text/plain": [
       "                author                                          statement  \\\n",
       "58262       April Hunt  Unlike marijuana medical cannabis oil cannot g...   \n",
       "40146   Louis Jacobson   There are more words in the IRS code than the...   \n",
       "103400   Jon Greenberg  21 of people are having serious adverse events...   \n",
       "\n",
       "        target  BinaryNumTarget                manual_keywords  \\\n",
       "58262     True              1.0  medical canabis, cannot, high   \n",
       "40146     True              1.0    More words, IRS code, Bible   \n",
       "103400   False              0.0            21%,adverse,moderna   \n",
       "\n",
       "                                                    tweet  \\\n",
       "58262    You cannot open a medical cannabis dispensary...   \n",
       "40146    There are more words in the IRS code than the...   \n",
       "103400   _AskMD Not hypothesis Judge forced FDA to FOI...   \n",
       "\n",
       "       5_label_majority_answer 3_label_majority_answer  \\\n",
       "58262                    Agree                   Agree   \n",
       "40146          Mostly Disagree                Disagree   \n",
       "103400                Disagree                Disagree   \n",
       "\n",
       "                                                     full consensus  labels  \n",
       "58262   True Statement: Unlike marijuana medical canna...      True       0  \n",
       "40146   True Statement:  There are more words in the I...     False       1  \n",
       "103400  False Statement: 21 of people are having serio...      True       1  "
      ]
     },
     "execution_count": 44,
     "metadata": {},
     "output_type": "execute_result"
    }
   ],
   "source": [
    "# Split data into train (80%), validation (10%), and test (10%) splits\n",
    "train_statements, temp_statements = train_test_split(df['statement'].unique(), test_size=0.2, random_state=27)\n",
    "valid_statements, test_statements = train_test_split(temp_statements, test_size=0.5, random_state=27)\n",
    "\n",
    "# Create the dataframes based on the statements\n",
    "train_df = df[df['statement'].isin(train_statements)]\n",
    "valid_df = df[df['statement'].isin(valid_statements)]\n",
    "test_df = df[df['statement'].isin(test_statements)]\n",
    "\n",
    "train_df.head(3)"
   ]
  },
  {
   "cell_type": "code",
   "execution_count": 45,
   "metadata": {},
   "outputs": [
    {
     "data": {
      "application/vnd.jupyter.widget-view+json": {
       "model_id": "0b0d35b78f2e4148b59e715713bb5e4e",
       "version_major": 2,
       "version_minor": 0
      },
      "text/plain": [
       "Map:   0%|          | 0/8 [00:00<?, ? examples/s]"
      ]
     },
     "metadata": {},
     "output_type": "display_data"
    },
    {
     "data": {
      "application/vnd.jupyter.widget-view+json": {
       "model_id": "ea1e79e3a7e94a0b8e84b0f9b9760214",
       "version_major": 2,
       "version_minor": 0
      },
      "text/plain": [
       "Map:   0%|          | 0/1 [00:00<?, ? examples/s]"
      ]
     },
     "metadata": {},
     "output_type": "display_data"
    },
    {
     "data": {
      "application/vnd.jupyter.widget-view+json": {
       "model_id": "6a676c8e32614206a6a6b6e38f31e5ab",
       "version_major": 2,
       "version_minor": 0
      },
      "text/plain": [
       "Map:   0%|          | 0/1 [00:00<?, ? examples/s]"
      ]
     },
     "metadata": {},
     "output_type": "display_data"
    }
   ],
   "source": [
    "# Convert train and test DataFrames into Hugging Face Datasets\n",
    "train_dataset = Dataset.from_pandas(train_df)\n",
    "test_dataset = Dataset.from_pandas(test_df)\n",
    "valid_dataset = Dataset.from_pandas(valid_df)\n",
    "\n",
    "train_dataset = train_dataset.map(util.tokenize_function, batched=True)\n",
    "test_dataset = test_dataset.map(util.tokenize_function, batched=True)\n",
    "valid_dataset = valid_dataset.map(util.tokenize_function, batched=True)"
   ]
  },
  {
   "cell_type": "code",
   "execution_count": 46,
   "metadata": {},
   "outputs": [
    {
     "name": "stderr",
     "output_type": "stream",
     "text": [
      "c:\\Users\\Straakh\\anaconda3\\envs\\truth\\Lib\\site-packages\\transformers\\training_args.py:1568: FutureWarning: `evaluation_strategy` is deprecated and will be removed in version 4.46 of 🤗 Transformers. Use `eval_strategy` instead\n",
      "  warnings.warn(\n",
      "C:\\Users\\Straakh\\Documents\\Git\\Truthseeker Dataset\\notebooks\\src\\util.py:130: FutureWarning: `tokenizer` is deprecated and will be removed in version 5.0.0 for `Trainer.__init__`. Use `processing_class` instead.\n",
      "  trainer = Trainer(\n"
     ]
    },
    {
     "data": {
      "application/vnd.jupyter.widget-view+json": {
       "model_id": "d6a20b6f2f8f4d3f8a47dc76f537de23",
       "version_major": 2,
       "version_minor": 0
      },
      "text/plain": [
       "  0%|          | 0/3 [00:00<?, ?it/s]"
      ]
     },
     "metadata": {},
     "output_type": "display_data"
    },
    {
     "data": {
      "application/vnd.jupyter.widget-view+json": {
       "model_id": "60b1e0a37dbe42878fdb2633804e9ecf",
       "version_major": 2,
       "version_minor": 0
      },
      "text/plain": [
       "  0%|          | 0/1 [00:00<?, ?it/s]"
      ]
     },
     "metadata": {},
     "output_type": "display_data"
    },
    {
     "name": "stdout",
     "output_type": "stream",
     "text": [
      "{'eval_loss': 0.616632878780365, 'eval_accuracy': 1.0, 'eval_runtime': 0.6841, 'eval_samples_per_second': 1.462, 'eval_steps_per_second': 1.462, 'epoch': 1.0}\n"
     ]
    },
    {
     "data": {
      "application/vnd.jupyter.widget-view+json": {
       "model_id": "c2ddbb63c8a64a86b9d889a44898e22b",
       "version_major": 2,
       "version_minor": 0
      },
      "text/plain": [
       "  0%|          | 0/1 [00:00<?, ?it/s]"
      ]
     },
     "metadata": {},
     "output_type": "display_data"
    },
    {
     "name": "stdout",
     "output_type": "stream",
     "text": [
      "{'eval_loss': 0.6149626970291138, 'eval_accuracy': 1.0, 'eval_runtime': 0.6777, 'eval_samples_per_second': 1.476, 'eval_steps_per_second': 1.476, 'epoch': 2.0}\n"
     ]
    },
    {
     "data": {
      "application/vnd.jupyter.widget-view+json": {
       "model_id": "6eaaab55ccd14d18ad9adc0451621347",
       "version_major": 2,
       "version_minor": 0
      },
      "text/plain": [
       "  0%|          | 0/1 [00:00<?, ?it/s]"
      ]
     },
     "metadata": {},
     "output_type": "display_data"
    },
    {
     "name": "stdout",
     "output_type": "stream",
     "text": [
      "{'eval_loss': 0.6115965247154236, 'eval_accuracy': 1.0, 'eval_runtime': 0.7036, 'eval_samples_per_second': 1.421, 'eval_steps_per_second': 1.421, 'epoch': 3.0}\n",
      "{'train_runtime': 41.5444, 'train_samples_per_second': 0.578, 'train_steps_per_second': 0.072, 'train_loss': 0.6942702134450277, 'epoch': 3.0}\n"
     ]
    },
    {
     "data": {
      "application/vnd.jupyter.widget-view+json": {
       "model_id": "589dd981676d4be294518537eacc0695",
       "version_major": 2,
       "version_minor": 0
      },
      "text/plain": [
       "  0%|          | 0/1 [00:00<?, ?it/s]"
      ]
     },
     "metadata": {},
     "output_type": "display_data"
    },
    {
     "name": "stdout",
     "output_type": "stream",
     "text": [
      "{'eval_loss': 0.616632878780365, 'eval_accuracy': 1.0, 'eval_runtime': 0.6529, 'eval_samples_per_second': 1.532, 'eval_steps_per_second': 1.532, 'epoch': 3.0}\n"
     ]
    },
    {
     "data": {
      "application/vnd.jupyter.widget-view+json": {
       "model_id": "808ac9761a5f4976843d7b73da48d9ac",
       "version_major": 2,
       "version_minor": 0
      },
      "text/plain": [
       "  0%|          | 0/1 [00:00<?, ?it/s]"
      ]
     },
     "metadata": {},
     "output_type": "display_data"
    },
    {
     "name": "stdout",
     "output_type": "stream",
     "text": [
      "PredictionOutput(predictions=array([[-0.0994429]], dtype=float32), label_ids=array([0], dtype=int64), metrics={'test_loss': 0.6446613073348999, 'test_accuracy': 1.0, 'test_runtime': 0.7368, 'test_samples_per_second': 1.357, 'test_steps_per_second': 1.357})\n"
     ]
    }
   ],
   "source": [
    "OUT = \"2_class\"\n",
    "# OUT = \"4_class\"\n",
    "util.train(train_dataset, test_dataset, valid_dataset, OUT)"
   ]
  }
 ],
 "metadata": {
  "kernelspec": {
   "display_name": "truth",
   "language": "python",
   "name": "python3"
  },
  "language_info": {
   "codemirror_mode": {
    "name": "ipython",
    "version": 3
   },
   "file_extension": ".py",
   "mimetype": "text/x-python",
   "name": "python",
   "nbconvert_exporter": "python",
   "pygments_lexer": "ipython3",
   "version": "3.12.4"
  }
 },
 "nbformat": 4,
 "nbformat_minor": 2
}
